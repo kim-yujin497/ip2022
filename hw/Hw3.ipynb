{
 "cells": [
  {
   "cell_type": "code",
   "execution_count": 1,
   "metadata": {},
   "outputs": [
    {
     "ename": "TypeError",
     "evalue": "'NoneType' object is not subscriptable",
     "output_type": "error",
     "traceback": [
      "\u001b[1;31m---------------------------------------------------------------------------\u001b[0m",
      "\u001b[1;31mTypeError\u001b[0m                                 Traceback (most recent call last)",
      "\u001b[1;32mc:\\Users\\alsgl\\Desktop\\영상처리 과제\\Homework3.ipynb 셀 1\u001b[0m in \u001b[0;36m<cell line: 35>\u001b[1;34m()\u001b[0m\n\u001b[0;32m     <a href='vscode-notebook-cell:/c%3A/Users/alsgl/Desktop/%EC%98%81%EC%83%81%EC%B2%98%EB%A6%AC%20%EA%B3%BC%EC%A0%9C/Homework3.ipynb#W0sZmlsZQ%3D%3D?line=33'>34</a>\u001b[0m     cv2\u001b[39m.\u001b[39mdestroyAllWindows()\n\u001b[0;32m     <a href='vscode-notebook-cell:/c%3A/Users/alsgl/Desktop/%EC%98%81%EC%83%81%EC%B2%98%EB%A6%AC%20%EA%B3%BC%EC%A0%9C/Homework3.ipynb#W0sZmlsZQ%3D%3D?line=34'>35</a>\u001b[0m \u001b[39mif\u001b[39;00m \u001b[39m__name__\u001b[39m \u001b[39m==\u001b[39m \u001b[39m\"\u001b[39m\u001b[39m__main__\u001b[39m\u001b[39m\"\u001b[39m:\n\u001b[1;32m---> <a href='vscode-notebook-cell:/c%3A/Users/alsgl/Desktop/%EC%98%81%EC%83%81%EC%B2%98%EB%A6%AC%20%EA%B3%BC%EC%A0%9C/Homework3.ipynb#W0sZmlsZQ%3D%3D?line=35'>36</a>\u001b[0m     run_main()\n",
      "\u001b[1;32mc:\\Users\\alsgl\\Desktop\\영상처리 과제\\Homework3.ipynb 셀 1\u001b[0m in \u001b[0;36mrun_main\u001b[1;34m()\u001b[0m\n\u001b[0;32m      <a href='vscode-notebook-cell:/c%3A/Users/alsgl/Desktop/%EC%98%81%EC%83%81%EC%B2%98%EB%A6%AC%20%EA%B3%BC%EC%A0%9C/Homework3.ipynb#W0sZmlsZQ%3D%3D?line=6'>7</a>\u001b[0m \u001b[39mwhile\u001b[39;00m(\u001b[39mTrue\u001b[39;00m):\n\u001b[0;32m      <a href='vscode-notebook-cell:/c%3A/Users/alsgl/Desktop/%EC%98%81%EC%83%81%EC%B2%98%EB%A6%AC%20%EA%B3%BC%EC%A0%9C/Homework3.ipynb#W0sZmlsZQ%3D%3D?line=7'>8</a>\u001b[0m     ret, frame \u001b[39m=\u001b[39m cap\u001b[39m.\u001b[39mread()\n\u001b[1;32m----> <a href='vscode-notebook-cell:/c%3A/Users/alsgl/Desktop/%EC%98%81%EC%83%81%EC%B2%98%EB%A6%AC%20%EA%B3%BC%EC%A0%9C/Homework3.ipynb#W0sZmlsZQ%3D%3D?line=8'>9</a>\u001b[0m     roi \u001b[39m=\u001b[39m frame[\u001b[39m0\u001b[39;49m:\u001b[39m1000\u001b[39;49m, \u001b[39m0\u001b[39;49m:\u001b[39m1000\u001b[39;49m]\n\u001b[0;32m     <a href='vscode-notebook-cell:/c%3A/Users/alsgl/Desktop/%EC%98%81%EC%83%81%EC%B2%98%EB%A6%AC%20%EA%B3%BC%EC%A0%9C/Homework3.ipynb#W0sZmlsZQ%3D%3D?line=9'>10</a>\u001b[0m     gray \u001b[39m=\u001b[39m cv2\u001b[39m.\u001b[39mcvtColor(roi, cv2\u001b[39m.\u001b[39mCOLOR_BGR2GRAY)\n\u001b[0;32m     <a href='vscode-notebook-cell:/c%3A/Users/alsgl/Desktop/%EC%98%81%EC%83%81%EC%B2%98%EB%A6%AC%20%EA%B3%BC%EC%A0%9C/Homework3.ipynb#W0sZmlsZQ%3D%3D?line=10'>11</a>\u001b[0m     gray_blur \u001b[39m=\u001b[39m cv2\u001b[39m.\u001b[39mGaussianBlur(gray, (\u001b[39m15\u001b[39m, \u001b[39m15\u001b[39m), \u001b[39m0\u001b[39m)\n",
      "\u001b[1;31mTypeError\u001b[0m: 'NoneType' object is not subscriptable"
     ]
    }
   ],
   "source": [
    "#1. Setting the Video Capture configuration\n",
    "#2. Reading image frames\n",
    "#3. Applying adaptive thresholding\n",
    "#4. Morphology\n",
    "#5. Contour detection and filtering\n",
    "\n",
    "import numpy as np\n",
    "import cv2\n",
    "\n",
    "def run_main():\n",
    "    cap = cv2.VideoCapture(\"coin.jpg\")\n",
    "    cap.set(cv2.CAP_PROP_FRAME_WIDTH, 1280)\n",
    "    cap.set(cv2.CAP_PROP_FRAME_HEIGHT, 720)\n",
    "\n",
    "    while(True):\n",
    "        ret, frame = cap.read()\n",
    "        roi = frame[0:1000, 0:1000]\n",
    "        gray = cv2.cvtColor(roi, cv2.COLOR_BGR2GRAY)\n",
    "        \n",
    "        gray_blur = cv2.GaussianBlur(gray, (15, 15), 0)\n",
    "        thresh = cv2.adaptiveThreshold(gray_blur, 255, cv2.ADAPTIVE_THRESH_GAUSSIAN_C,\n",
    "                                       cv2.THRESH_BINARY_INV, 11, 1)\n",
    "        \n",
    "        kernel = np.ones((3, 3), np.uint8)\n",
    "        closing = cv2.morphologyEx(thresh, cv2.MORPH_CLOSE, kernel, iterations=4)\n",
    "        \n",
    "        cont_img = closing.copy()\n",
    "        contours, hierarchy = cv2.findContours(cont_img, cv2.RETR_EXTERNAL, cv2.CHAIN_APPROX_SIMPLE)\n",
    "        \n",
    "        for cnt in contours:\n",
    "            area = cv2.contourArea(cnt)\n",
    "            if area < 100 or area > 200:\n",
    "                continue\n",
    "            if len(cnt) < 5:\n",
    "                continue\n",
    "            ellipse = cv2.fitEllipse(cnt)\n",
    "            cv2.ellipse(roi, ellipse, (0,255,0), 2)\n",
    "        \n",
    "        cv2.imshow(\"Morphological Closing\", closing)\n",
    "        cv2.imshow(\"Adaptive Thresholding\", thresh)\n",
    "        cv2.imshow('Contours', roi)\n",
    "        \n",
    "        if cv2.waitKey(1) & 0xFF == ord('q'):\n",
    "            break\n",
    "\n",
    "    cap.release()\n",
    "    cv2.destroyAllWindows()\n",
    "\n",
    "if __name__ == \"__main__\":\n",
    "    run_main()"
   ]
  }
 ],
 "metadata": {
  "kernelspec": {
   "display_name": "Python 3.8.13 ('opencv')",
   "language": "python",
   "name": "python3"
  },
  "language_info": {
   "codemirror_mode": {
    "name": "ipython",
    "version": 3
   },
   "file_extension": ".py",
   "mimetype": "text/x-python",
   "name": "python",
   "nbconvert_exporter": "python",
   "pygments_lexer": "ipython3",
   "version": "3.8.13"
  },
  "orig_nbformat": 4,
  "vscode": {
   "interpreter": {
    "hash": "7907b3713477a8fe5aee6ef956d0d2d5ff3f3768ee996720426646a2a2897968"
   }
  }
 },
 "nbformat": 4,
 "nbformat_minor": 2
}
