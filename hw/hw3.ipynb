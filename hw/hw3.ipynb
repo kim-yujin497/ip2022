{
  "nbformat": 4,
  "nbformat_minor": 0,
  "metadata": {
    "colab": {
      "provenance": [],
      "authorship_tag": "ABX9TyPYSwaU7/Zb+Au2Ol8AVd5C",
      "include_colab_link": true
    },
    "kernelspec": {
      "name": "python3",
      "display_name": "Python 3"
    },
    "language_info": {
      "name": "python"
    }
  },
  "cells": [
    {
      "cell_type": "markdown",
      "metadata": {
        "id": "view-in-github",
        "colab_type": "text"
      },
      "source": [
        "<a href=\"https://colab.research.google.com/github/kim-yujin497/ip2022/blob/main/hw/hw3.ipynb\" target=\"_parent\"><img src=\"https://colab.research.google.com/assets/colab-badge.svg\" alt=\"Open In Colab\"/></a>"
      ]
    },
    {
      "cell_type": "code",
      "execution_count": null,
      "metadata": {
        "id": "_pEW0N6pe2iF"
      },
      "outputs": [],
      "source": [
        "#1. Setting the Video Capture configuration\n",
        "#2. Reading image frames\n",
        "#3. Applying adaptive thresholding\n",
        "#4. Morphology\n",
        "#5. Contour detection and filtering\n",
        "\n",
        "import numpy as np\n",
        "import cv2\n",
        "\n",
        "def run_main():\n",
        "    cap = cv2.VideoCapture(0)\n",
        "    cap.set(cv2.cv.CV_CAP_PROP_FRAME_WIDTH, 1280)\n",
        "    cap.set(cv2.cv.CV_CAP_PROP_FRAME_HEIGHT, 720)\n",
        "\n",
        "    while(True):\n",
        "        ret, frame = cap.read()\n",
        "        roi = frame[0:500, 0:500]\n",
        "        gray = cv2.cvtColor(roi, cv2.COLOR_BGR2GRAY)\n",
        "\n",
        "        gray_blur = cv2.GaussianBlur(gray, (15, 15), 0)\n",
        "        thresh = cv2.adaptiveThreshold(gray_blur, 255, cv2.ADAPTIVE_THRESH_GAUSSIAN_C,\n",
        "                                       cv2.THRESH_BINARY_INV, 11, 1)\n",
        "\n",
        "        kernel = np.ones((3, 3), np.uint8)\n",
        "        closing = cv2.morphologyEx(thresh, cv2.MORPH_CLOSE,\n",
        "        kernel, iterations=4)\n",
        "\n",
        "        cont_img = closing.copy()\n",
        "        contours, hierarchy = cv2.findContours(cont_img, cv2.RETR_EXTERNAL, cv2.CHAIN_APPROX_SIMPLE)\n",
        "\n",
        "        for cnt in contours:\n",
        "            area = cv2.contourArea(cnt)\n",
        "            if area < 2000 or area > 4000:\n",
        "                continue\n",
        "\n",
        "            if len(cnt) < 5:\n",
        "                continue\n",
        "\n",
        "            ellipse = cv2.fitEllipse(cnt)\n",
        "            cv2.ellipse(roi, ellipse, (0,255,0), 2)\n",
        "\n",
        "        cv2.imshow(\"Morphological Closing\", closing)\n",
        "        cv2.imshow(\"Adaptive Thresholding\", thresh)\n",
        "        cv2.imshow('Contours', roi)\n",
        "\n",
        "        if cv2.waitKey(1) & 0xFF == ord('q'):\n",
        "            break\n",
        "\n",
        "    cap.release()\n",
        "    cv2.destroyAllWindows()\n",
        "\n",
        "if __name__ == \"__main__\":\n",
        "    run_main()"
      ]
    }
  ]
}