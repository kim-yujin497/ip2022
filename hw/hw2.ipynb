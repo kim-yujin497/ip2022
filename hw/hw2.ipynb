{
  "nbformat": 4,
  "nbformat_minor": 0,
  "metadata": {
    "colab": {
      "provenance": [],
      "collapsed_sections": [],
      "authorship_tag": "ABX9TyMUgPBKFmS0XDSoYekEsIqn",
      "include_colab_link": true
    },
    "kernelspec": {
      "name": "python3",
      "display_name": "Python 3"
    },
    "language_info": {
      "name": "python"
    }
  },
  "cells": [
    {
      "cell_type": "markdown",
      "metadata": {
        "id": "view-in-github",
        "colab_type": "text"
      },
      "source": [
        "<a href=\"https://colab.research.google.com/github/kim-yujin497/ip2022/blob/main/hw2.ipynb\" target=\"_parent\"><img src=\"https://colab.research.google.com/assets/colab-badge.svg\" alt=\"Open In Colab\"/></a>"
      ]
    },
    {
      "cell_type": "code",
      "execution_count": null,
      "metadata": {
        "id": "e9xZ2OgdYn7a"
      },
      "outputs": [],
      "source": [
        "import cv2\n",
        "import numpy as np\n",
        "\n",
        "#video file name #파이썬 파일과 같은 경로에 저장\n",
        "cap = cv2.VideoCapture(\"tracking2.avi\")\n",
        "\n",
        "while(1):\n",
        "    # Take each frame #동영상 \n",
        "    ret, frame = cap.read()\n",
        "\n",
        "    if ret: \n",
        "        # Convert BGR to HSV # HSV color model \n",
        "        hsv = cv2.cvtColor(frame, cv2.COLOR_BGR2HSV)\n",
        "        \n",
        "        # define range of blue color in HSV\n",
        "        lower_blue = np.array([40,50,50])   #40, 50, 50 -> yellow \n",
        "        upper_blue = np.array([80,255,255]) #80, 255, 255 -> yellow\n",
        "        \n",
        "        # Threshold the HSV image to get only blue colors #\n",
        "        mask = cv2.inRange(hsv, lower_blue, upper_blue)\n",
        "        \n",
        "        # Bitwise-AND mask and original image\n",
        "        res = cv2.bitwise_and(frame, frame, mask= mask)\n",
        "        cv2.imshow('frame', frame)\n",
        "        cv2.imshow('mask', mask)\n",
        "        cv2.imshow('res', res)\n",
        "    \n",
        "    else : \n",
        "        break\n",
        "\n",
        "    k = cv2.waitKey(5) & 0xFF\n",
        "    if k == 27:\n",
        "        break\n",
        "\n",
        "cv2.destroyAllWindows()"
      ]
    }
  ]
}
