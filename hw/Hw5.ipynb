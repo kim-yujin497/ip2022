{
 "cells": [
  {
   "cell_type": "code",
   "execution_count": null,
   "metadata": {},
   "outputs": [],
   "source": [
    "import numpy as np\n",
    "import cv2\n",
    "from matplotlib import pyplot as plt\n",
    "\n",
    "img = cv2.imread('coins.png')\n",
    "imgray = cv2.cvtColor(img,cv2.COLOR_BGR2GRAY)\n",
    "ret, thresh = cv2.threshold(gray,0,255,cv2.THRESH_BINARY_INV+cv2.THRESH_OTSU)\n",
    "\n",
    "plt.figure(figsize=(28,8)) #그래프 사이즈 설정 - figsize(가로길이,세로길이)\n",
    "plt.subplot(1, 3, 1), plt.imshow(img)\n",
    "plt.title('Original Image'), plt.xticks([]), plt.yticks([])\n",
    "plt.subplot(1, 3, 2), plt.imshow(imgray, cmap = 'gray')\n",
    "plt.title('Laplaction Image'), plt.xticks([]), plt.yticks([])\n",
    "plt.subplot(1, 3, 3), plt.imshow(thresh, cmap = 'gray')\n",
    "plt.title('Sobel X Image'), plt.xticks([]), plt.yticks([])\n",
    "plt.show()"
   ]
  },
  {
   "cell_type": "code",
   "execution_count": null,
   "metadata": {},
   "outputs": [],
   "source": [
    "contours, hierarchy = cv2.findContours(thresh, cv2.RETR_TREE, cv2.CHAIN_APPROX_SIMPLE)\n",
    "img0 = img.copy()\n",
    "img1 = img.copy()\n",
    "img0 = cv2.drawContours(img0, contours, -1, (255,0,0), 3) #-1\n",
    "img1 = cv2.drawContours(img1, contours, 3, (255,0,0), 3) #3"
   ]
  },
  {
   "cell_type": "code",
   "execution_count": null,
   "metadata": {},
   "outputs": [],
   "source": [
    "plt.figure(figsize=(24,8)) #그래프 사이즈 설정 - figsize(가로길이,세로길이)\n",
    "plt.subplot(1, 3, 1), plt.imshow(img)\n",
    "plt.title('Original Image'), plt.xticks([]), plt.yticks([])\n",
    "plt.subplot(1, 3, 2), plt.imshow(img0, cmap= 'gray')\n",
    "plt.title('Laplaction Image'), plt.xticks([]), plt.yticks([])\n",
    "plt.subplot(1, 3, 3), plt.imshow(img1, cmap= 'gray')\n",
    "plt.title('Sobel X Image'), plt.xticks([]), plt.yticks([])\n",
    "\n",
    "plt.show()"
   ]
  }
 ],
 "metadata": {
  "kernelspec": {
   "display_name": "Python 3.8.5 32-bit",
   "language": "python",
   "name": "python3"
  },
  "language_info": {
   "name": "python",
   "version": "3.8.5"
  },
  "orig_nbformat": 4,
  "vscode": {
   "interpreter": {
    "hash": "ab346aeb941d3eb22c315bdddbcd7a9399296d9e3feea520812b7600ca0cd9c8"
   }
  }
 },
 "nbformat": 4,
 "nbformat_minor": 2
}
