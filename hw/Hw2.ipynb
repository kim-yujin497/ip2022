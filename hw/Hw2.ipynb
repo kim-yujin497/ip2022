{
 "cells": [
  {
   "cell_type": "code",
   "execution_count": null,
   "metadata": {},
   "outputs": [],
   "source": [
    "import cv2\n",
    "import numpy as np\n",
    "\n",
    "#video file name #파이썬 파일과 같은 경로에 저장\n",
    "cap = cv2.VideoCapture(\"tracking2.avi\")\n",
    "\n",
    "while(1):\n",
    "    ret, frame =cap.read() # Take each frame #동영상 \n",
    "\n",
    "    if ret:\n",
    "        # Convert BGR to HSV # HSV color model \n",
    "        hsv = cv2.cvtColor(frame, cv2.COLOR_BGR2HSV) \n",
    "        # define range of blue color in HSV\n",
    "        lower_blue = np.array([20,20,100])\n",
    "        upper_blue = np.array([32,255,255])\n",
    "        # Threshold the HSV image to get only blue colors\n",
    "        mask = cv2.inRange(hsv, lower_blue, upper_blue)\n",
    "        # Bitwise-AND mask and original image\n",
    "        res = cv2.bitwise_and(frame,frame, mask=mask)\n",
    "\n",
    "        cv2.imshow('frame',frame)\n",
    "        cv2.imshow('mask',mask)\n",
    "        cv2.imshow('res',res)\n",
    "        \n",
    "    else :\n",
    "        break\n",
    "    k = cv2.waitKey(5) & 0xFF\n",
    "    if k == 27:\n",
    "        break"
   ]
  }
 ],
 "metadata": {
  "kernelspec": {
   "display_name": "Python 3.8.13 ('opencv')",
   "language": "python",
   "name": "python3"
  },
  "language_info": {
   "codemirror_mode": {
    "name": "ipython",
    "version": 3
   },
   "file_extension": ".py",
   "mimetype": "text/x-python",
   "name": "python",
   "nbconvert_exporter": "python",
   "pygments_lexer": "ipython3",
   "version": "3.8.13"
  },
  "orig_nbformat": 4,
  "vscode": {
   "interpreter": {
    "hash": "7907b3713477a8fe5aee6ef956d0d2d5ff3f3768ee996720426646a2a2897968"
   }
  }
 },
 "nbformat": 4,
 "nbformat_minor": 2
}
