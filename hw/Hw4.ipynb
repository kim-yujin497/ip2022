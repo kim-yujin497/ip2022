{
 "cells": [
  {
   "cell_type": "code",
   "execution_count": 1,
   "metadata": {},
   "outputs": [],
   "source": [
    "import cv2\n",
    "import numpy as np\n",
    "\n",
    "img = cv2.imread('dsu2.jpg')\n",
    "img1 = cv2.imread('dsu4.jpg')\n",
    "\n",
    "width, height = 500, 350 #image size\n",
    "\n",
    "pts1 = np.float32([[110,231], [703,165], [117,500], [706,541]])\n",
    "pts2 = np.float32([[0,0], [width,0,], [0,height], [width,height]])\n",
    "\n",
    "M = cv2.getPerspectiveTransform(pts1, pts2)\n",
    "\n",
    "output = cv2.warpPerspective(img, M, (width,height))\n",
    "\n",
    "for x in range (0,4):\n",
    "    cv2.circle(img, (int(pts1[x][0]), int(pts1[x][1])), 5, (0,0,255), cv2.FILLED)\n",
    "\n",
    "cv2.imshow(\"Original Image\", img)\n",
    "cv2.imshow(\"Output Image\", output)\n",
    "cv2.waitKey(0)"
   ]
  }
 ],
 "metadata": {
  "kernelspec": {
   "display_name": "Python 3.8.13 ('opencv')",
   "language": "python",
   "name": "python3"
  },
  "language_info": {
   "codemirror_mode": {
    "name": "ipython",
    "version": 3
   },
   "file_extension": ".py",
   "mimetype": "text/x-python",
   "name": "python",
   "nbconvert_exporter": "python",
   "pygments_lexer": "ipython3",
   "version": "3.8.13"
  },
  "orig_nbformat": 4,
  "vscode": {
   "interpreter": {
    "hash": "7907b3713477a8fe5aee6ef956d0d2d5ff3f3768ee996720426646a2a2897968"
   }
  }
 },
 "nbformat": 4,
 "nbformat_minor": 2
}
