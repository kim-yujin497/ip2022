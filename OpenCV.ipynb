{
  "nbformat": 4,
  "nbformat_minor": 0,
  "metadata": {
    "colab": {
      "provenance": [],
      "authorship_tag": "ABX9TyMoo5lTX9Mzpovn8xgpmF74",
      "include_colab_link": true
    },
    "kernelspec": {
      "name": "python3",
      "display_name": "Python 3"
    },
    "language_info": {
      "name": "python"
    }
  },
  "cells": [
    {
      "cell_type": "markdown",
      "metadata": {
        "id": "view-in-github",
        "colab_type": "text"
      },
      "source": [
        "<a href=\"https://colab.research.google.com/github/kim-yujin497/ip2022/blob/main/OpenCV.ipynb\" target=\"_parent\"><img src=\"https://colab.research.google.com/assets/colab-badge.svg\" alt=\"Open In Colab\"/></a>"
      ]
    },
    {
      "cell_type": "markdown",
      "source": [
        "Anaconda powershall prompt"
      ],
      "metadata": {
        "id": "MWq5OalXO0u3"
      }
    },
    {
      "cell_type": "code",
      "source": [
        "conda update conda\n",
        "conda create -n opencv python=3.8 anaconda\n",
        "conda activate opencv\n",
        "pip install --upgrade pip\n",
        "pip install opencv-python\n",
        "pip install matplotlib\n",
        "\n",
        "conda\n",
        "conda -V\n",
        "conda update conda\n",
        "conda create -n yourenvname python=3.# anaconda\n",
        "\n",
        "conda activate yourenvname\n"
      ],
      "metadata": {
        "id": "jAQdCYbtO9CD"
      },
      "execution_count": null,
      "outputs": []
    }
  ]
}