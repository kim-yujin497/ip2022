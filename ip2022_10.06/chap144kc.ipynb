{
 "cells": [
  {
   "cell_type": "markdown",
   "metadata": {},
   "source": [
    "# 1.4.4 Smoothing Images"
   ]
  },
  {
   "cell_type": "markdown",
   "metadata": {},
   "source": [
    "## Kernel Convolution"
   ]
  },
  {
   "cell_type": "code",
   "execution_count": 1,
   "metadata": {},
   "outputs": [],
   "source": [
    "import cv2\n",
    "import numpy as np\n",
    "from matplotlib import pyplot as plt"
   ]
  },
  {
   "cell_type": "code",
   "execution_count": 35,
   "metadata": {},
   "outputs": [],
   "source": [
    "l=1\n",
    "kernel = np.array([[0,-1,0], [-1,5,-1], [0,-1,0]], np.float32)"
   ]
  },
  {
   "cell_type": "code",
   "execution_count": 36,
   "metadata": {},
   "outputs": [
    {
     "data": {
      "text/plain": [
       "array([[ 0., -1.,  0.],\n",
       "       [-1.,  5., -1.],\n",
       "       [ 0., -1.,  0.]], dtype=float32)"
      ]
     },
     "execution_count": 36,
     "metadata": {},
     "output_type": "execute_result"
    }
   ],
   "source": [
    "kernel"
   ]
  },
  {
   "cell_type": "code",
   "execution_count": 37,
   "metadata": {},
   "outputs": [],
   "source": [
    "img = np.random.randint(10, size=(12,12))\n",
    "#img = np.ones((10,10),np.float32)"
   ]
  },
  {
   "cell_type": "code",
   "execution_count": 38,
   "metadata": {},
   "outputs": [
    {
     "data": {
      "text/plain": [
       "array([[4, 6, 0, 7, 4, 6, 7, 4, 4, 0, 1, 3],\n",
       "       [1, 3, 3, 5, 3, 3, 8, 0, 0, 1, 1, 8],\n",
       "       [1, 9, 7, 1, 7, 2, 7, 0, 1, 7, 2, 6],\n",
       "       [1, 0, 6, 5, 3, 8, 7, 7, 1, 0, 1, 5],\n",
       "       [1, 9, 3, 3, 9, 5, 1, 7, 9, 9, 3, 2],\n",
       "       [6, 0, 3, 2, 2, 2, 7, 4, 9, 0, 2, 3],\n",
       "       [2, 6, 6, 9, 0, 8, 9, 2, 8, 1, 2, 0],\n",
       "       [3, 3, 5, 2, 3, 0, 6, 8, 1, 7, 8, 5],\n",
       "       [7, 4, 6, 7, 5, 7, 9, 4, 3, 2, 4, 4],\n",
       "       [5, 3, 6, 4, 2, 8, 3, 6, 5, 6, 8, 0],\n",
       "       [1, 6, 0, 6, 5, 1, 9, 2, 4, 8, 4, 4],\n",
       "       [1, 7, 7, 8, 4, 4, 9, 9, 1, 4, 7, 8]])"
      ]
     },
     "execution_count": 38,
     "metadata": {},
     "output_type": "execute_result"
    }
   ],
   "source": [
    "img"
   ]
  },
  {
   "cell_type": "code",
   "execution_count": 39,
   "metadata": {},
   "outputs": [],
   "source": [
    "h,w=img.shape"
   ]
  },
  {
   "cell_type": "code",
   "execution_count": 40,
   "metadata": {},
   "outputs": [
    {
     "name": "stdout",
     "output_type": "stream",
     "text": [
      "12 12\n"
     ]
    }
   ],
   "source": [
    "print(h,w)"
   ]
  },
  {
   "cell_type": "code",
   "execution_count": 41,
   "metadata": {},
   "outputs": [],
   "source": [
    "#[*range(-2,3)]"
   ]
  },
  {
   "cell_type": "code",
   "execution_count": 42,
   "metadata": {},
   "outputs": [
    {
     "name": "stderr",
     "output_type": "stream",
     "text": [
      "C:\\Users\\U301-19\\AppData\\Local\\Temp\\ipykernel_1976\\2160328971.py:1: DeprecationWarning: `np.int` is a deprecated alias for the builtin `int`. To silence this warning, use `int` by itself. Doing this will not modify any behavior and is safe. When replacing `np.int`, you may wish to use e.g. `np.int64` or `np.int32` to specify the precision. If you wish to review your current use, check the release note link for additional information.\n",
      "Deprecated in NumPy 1.20; for more details and guidance: https://numpy.org/devdocs/release/1.20.0-notes.html#deprecations\n",
      "  dst = np.zeros((h,w),np.int)\n"
     ]
    }
   ],
   "source": [
    "dst = np.zeros((h,w),np.int)"
   ]
  },
  {
   "cell_type": "code",
   "execution_count": 43,
   "metadata": {},
   "outputs": [],
   "source": [
    "for i in range(l,h-l):\n",
    "    for j in range(l,w-l):\n",
    "        t=0\n",
    "        for p in range(-l,l+1):\n",
    "            for q in range(-l,l+1):\n",
    "                t += kernel[p+l,q+l]*img[i+p,j+q]\n",
    "        dst[i,j]=t        "
   ]
  },
  {
   "cell_type": "code",
   "execution_count": 44,
   "metadata": {},
   "outputs": [
    {
     "data": {
      "text/plain": [
       "array([[4, 6, 0, 7, 4, 6, 7, 4, 4, 0, 1, 3],\n",
       "       [1, 3, 3, 5, 3, 3, 8, 0, 0, 1, 1, 8],\n",
       "       [1, 9, 7, 1, 7, 2, 7, 0, 1, 7, 2, 6],\n",
       "       [1, 0, 6, 5, 3, 8, 7, 7, 1, 0, 1, 5],\n",
       "       [1, 9, 3, 3, 9, 5, 1, 7, 9, 9, 3, 2],\n",
       "       [6, 0, 3, 2, 2, 2, 7, 4, 9, 0, 2, 3],\n",
       "       [2, 6, 6, 9, 0, 8, 9, 2, 8, 1, 2, 0],\n",
       "       [3, 3, 5, 2, 3, 0, 6, 8, 1, 7, 8, 5],\n",
       "       [7, 4, 6, 7, 5, 7, 9, 4, 3, 2, 4, 4],\n",
       "       [5, 3, 6, 4, 2, 8, 3, 6, 5, 6, 8, 0],\n",
       "       [1, 6, 0, 6, 5, 1, 9, 2, 4, 8, 4, 4],\n",
       "       [1, 7, 7, 8, 4, 4, 9, 9, 1, 4, 7, 8]])"
      ]
     },
     "execution_count": 44,
     "metadata": {},
     "output_type": "execute_result"
    }
   ],
   "source": [
    "img"
   ]
  },
  {
   "cell_type": "code",
   "execution_count": 45,
   "metadata": {},
   "outputs": [
    {
     "data": {
      "text/plain": [
       "array([[  0,   0,   0,   0,   0,   0,   0,   0,   0,   0,   0,   0],\n",
       "       [  0,  -4,   0,  11,  -4,  -4,  23, -12,  -6,  -3,  -7,   0],\n",
       "       [  0,  34,  16, -19,  26, -15,  18, -15,  -3,  31,  -5,   0],\n",
       "       [  0, -25,  15,  12, -14,  23,  12,  20, -12, -18,  -5,   0],\n",
       "       [  0,  41,  -6,  -4,  32,   5, -21,  14,  19,  33,   1,   0],\n",
       "       [  0, -24,   4,  -7,  -3, -12,  19,  -5,  24, -21,   2,   0],\n",
       "       [  0,  19,   7,  35, -22,  29,  22, -19,  27, -12,  -1,   0],\n",
       "       [  0,  -3,   8, -14,   8, -24,   4,  27, -21,  23,  22,   0],\n",
       "       [  0,   1,   8,  18,   6,  13,  25,  -6,   3, -10,  -2,   0],\n",
       "       [  0,  -6,  17,  -1, -12,  27, -17,  16,   6,   7,  26,   0],\n",
       "       [  0,  19, -25,  13,  12, -21,  30, -18,   4,  22,  -7,   0],\n",
       "       [  0,   0,   0,   0,   0,   0,   0,   0,   0,   0,   0,   0]])"
      ]
     },
     "execution_count": 45,
     "metadata": {},
     "output_type": "execute_result"
    }
   ],
   "source": [
    "dst"
   ]
  },
  {
   "cell_type": "code",
   "execution_count": 46,
   "metadata": {},
   "outputs": [],
   "source": [
    "img = cv2.imread('lena.png', 0)"
   ]
  },
  {
   "cell_type": "code",
   "execution_count": 47,
   "metadata": {},
   "outputs": [],
   "source": [
    "h,w=img.shape"
   ]
  },
  {
   "cell_type": "code",
   "execution_count": 48,
   "metadata": {},
   "outputs": [],
   "source": [
    "dst = np.zeros((h-2*l,w-2*l),np.uint8)"
   ]
  },
  {
   "cell_type": "code",
   "execution_count": 49,
   "metadata": {},
   "outputs": [],
   "source": [
    "for i in range(l,h-l):\n",
    "    for j in range(l,w-l):\n",
    "        t=0\n",
    "        for p in range(-l,l+1):\n",
    "            for q in range(-l,l+1):\n",
    "                t += kernel[p+l,q+l]*img[i+p,j+q]\n",
    "        dst[i-l,j-l]=t "
   ]
  },
  {
   "cell_type": "code",
   "execution_count": 51,
   "metadata": {},
   "outputs": [],
   "source": [
    "cv2.imshow('img',img)\n",
    "cv2.imshow('dst',dst)\n",
    "cv2.waitKey(0)\n",
    "cv2.destroyAllWindows()"
   ]
  },
  {
   "cell_type": "code",
   "execution_count": null,
   "metadata": {},
   "outputs": [],
   "source": []
  }
 ],
 "metadata": {
  "kernelspec": {
   "display_name": "Python 3.8.13 ('opencv')",
   "language": "python",
   "name": "python3"
  },
  "language_info": {
   "codemirror_mode": {
    "name": "ipython",
    "version": 3
   },
   "file_extension": ".py",
   "mimetype": "text/x-python",
   "name": "python",
   "nbconvert_exporter": "python",
   "pygments_lexer": "ipython3",
   "version": "3.8.13"
  },
  "vscode": {
   "interpreter": {
    "hash": "dabfbe889f47f4edad66241282dbd55ceec1ae85ba2ad8f9d818dce81c496e3a"
   }
  }
 },
 "nbformat": 4,
 "nbformat_minor": 4
}
